{
 "cells": [
  {
   "cell_type": "markdown",
   "metadata": {},
   "source": [
    "1 \n",
    "\n",
    "a) The flexible method would work better due to more degrees of freedom\n",
    "\n",
    "b) An inflexible method would work better as the flexible one would overfit\n",
    "\n",
    "c) A flexible method would be better to fit the data\n",
    "\n",
    "d) an inflexible would be better because the variance of the model would be less\\"
   ]
  },
  {
   "cell_type": "markdown",
   "metadata": {},
   "source": [
    "2\n",
    "\n",
    "a) Regression problem since we are trying to understand the quantitative variable of salary. n = 500 and p = 3 which\n",
    "   are no of employees, profit and industry. We are interested in inference because we want to understand what\n",
    "   will best explain CEO salary\n",
    "\n",
    "b) Classification problem since we are predicting success or failure. n = 20 and p = 14\n",
    "   We are most interested in prediction since we want to know if we will succeed or not\n",
    "\n",
    "c) Regression problem since we want to predict a quantitative variable in percent change of USD.\n",
    "   n = 52 (weeks in 2012) and p = 3\n",
    "   We are interested in prediction because we want to predict the change"
   ]
  },
  {
   "cell_type": "code",
   "execution_count": null,
   "metadata": {
    "collapsed": true
   },
   "outputs": [],
   "source": []
  }
 ],
 "metadata": {
  "kernelspec": {
   "display_name": "Python 2",
   "language": "python",
   "name": "python2"
  },
  "language_info": {
   "codemirror_mode": {
    "name": "ipython",
    "version": 2
   },
   "file_extension": ".py",
   "mimetype": "text/x-python",
   "name": "python",
   "nbconvert_exporter": "python",
   "pygments_lexer": "ipython2",
   "version": "2.7.11"
  }
 },
 "nbformat": 4,
 "nbformat_minor": 0
}
